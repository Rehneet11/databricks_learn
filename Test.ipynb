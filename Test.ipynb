{
 "cells": [
  {
   "cell_type": "code",
   "execution_count": 0,
   "metadata": {
    "application/vnd.databricks.v1+cell": {
     "cellMetadata": {
      "byteLimit": 2048000,
      "rowLimit": 10000
     },
     "inputWidgets": {},
     "nuid": "9509829b-8f1d-449d-8a35-5856fdcdaa64",
     "showTitle": false,
     "tableResultSettingsMap": {},
     "title": ""
    }
   },
   "outputs": [],
   "source": [
    "print(\"Hello\")"
   ]
  },
  {
   "cell_type": "code",
   "execution_count": 0,
   "metadata": {
    "application/vnd.databricks.v1+cell": {
     "cellMetadata": {
      "byteLimit": 2048000,
      "rowLimit": 10000
     },
     "inputWidgets": {},
     "nuid": "1d8aa8e6-11c1-40f2-aadc-13ddc3ba796e",
     "showTitle": false,
     "tableResultSettingsMap": {},
     "title": ""
    }
   },
   "outputs": [],
   "source": [
    "from pyspark.sql import SparkSession\n",
    "\n",
    "spark = SparkSession.builder.appName(\"ItemsDataSQL\").getOrCreate()\n",
    "\n",
    "\n",
    "data = [\n",
    "    (\"FDA15\", 9.3, \"Low Fat\", 0.01604730),\n",
    "    (\"DRC01\", 5.92, \"Regular\", 0.01927821),\n",
    "    (\"FDN15\", 17.5, \"Low Fat\", 0.01676007),\n",
    "    (\"FDX07\", 19.2, \"Regular\", 0.0),\n",
    "    (\"NCD19\", 8.93, \"Low Fat\", 0.0),\n",
    "    (\"FDP36\", 10.395, \"Regular\", 0.0),\n",
    "    (\"FDO10\", 13.65, \"Regular\", 0.01274108),\n",
    "    (\"FDP10\", None, \"Low Fat\", 0.12746985),\n",
    "    (\"FDH17\", 16.2, \"Regular\", 0.01668711),\n",
    "    (\"FDU28\", 19.2, \"Regular\", 0.09444959),\n",
    "    (\"FDY07\", 11.8, \"Low Fat\", 0.0),\n",
    "    (\"FDA03\", 18.5, \"Regular\", 0.04546377),\n",
    "    (\"FDX32\", 15.1, \"Regular\", 0.10001315),\n",
    "    (\"FDS46\", 17.6, \"Regular\", 0.04725732)\n",
    "]\n",
    "\n",
    "columns = [\"Item_identifier\", \"Item_Weight\", \"Item_Fat_Content\", \"Item_Visibility\"]\n",
    "\n",
    "df_items = spark.createDataFrame(data, columns)\n",
    "\n",
    "df_items.createOrReplaceTempView(\"items\")\n",
    "\n",
    "# 1. Show all items\n",
    "spark.sql(\"SELECT * FROM items\").show()\n",
    "\n",
    "# 2. Items with weight missing (null)\n",
    "spark.sql(\"SELECT * FROM items WHERE Item_Weight IS NULL\").show()\n",
    "\n",
    "# 3. Average item weight by fat content\n",
    "spark.sql(\"\"\"\n",
    "    SELECT Item_Fat_Content, AVG(Item_Weight) AS avg_weight\n",
    "    FROM items\n",
    "    GROUP BY Item_Fat_Content\n",
    "\"\"\").show()\n",
    "\n",
    "# 4. Items sorted by visibility descending\n",
    "spark.sql(\"SELECT Item_identifier, Item_Visibility FROM items ORDER BY Item_Visibility DESC\").show()\n",
    "\n",
    "# 5. Count of items by fat content\n",
    "spark.sql(\"\"\"\n",
    "    SELECT Item_Fat_Content, COUNT(*) AS count_items\n",
    "    FROM items\n",
    "    GROUP BY Item_Fat_Content\n",
    "\"\"\").show()\n"
   ]
  }
 ],
 "metadata": {
  "application/vnd.databricks.v1+notebook": {
   "computePreferences": null,
   "dashboards": [],
   "environmentMetadata": {
    "base_environment": "",
    "environment_version": "2"
   },
   "inputWidgetPreferences": null,
   "language": "python",
   "notebookMetadata": {
    "pythonIndentUnit": 4
   },
   "notebookName": "Test",
   "widgets": {}
  },
  "language_info": {
   "name": "python"
  }
 },
 "nbformat": 4,
 "nbformat_minor": 0
}
